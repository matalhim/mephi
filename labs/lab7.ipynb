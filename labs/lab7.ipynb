{
 "cells": [
  {
   "cell_type": "markdown",
   "id": "494ab87a",
   "metadata": {},
   "source": [
    "$f(x) = x^2 + e^x\\\\\n",
    "\\int_0^5 f(x)dx = \\int_0^5 (x^2 + e^x)dx = \\frac{5^3}{3} + e^5 = 189.07983$"
   ]
  },
  {
   "cell_type": "code",
   "execution_count": 52,
   "id": "48612d80",
   "metadata": {},
   "outputs": [],
   "source": [
    "import pandas as pd\n",
    "import matplotlib.pyplot as plt\n",
    "import numpy as np\n",
    "\n",
    "result = 189.07983\n",
    "a = 0\n",
    "b = 5\n",
    "n = 100\n",
    "\n",
    "df = pd.DataFrame({'x': np.linspace(a, b, n)})\n",
    "h = (b - a)/n"
   ]
  },
  {
   "cell_type": "code",
   "execution_count": 53,
   "id": "da531206",
   "metadata": {},
   "outputs": [],
   "source": [
    "def f(x):\n",
    "    return x ** 2 + np.exp(x)\n"
   ]
  },
  {
   "cell_type": "code",
   "execution_count": 66,
   "id": "249f73cc",
   "metadata": {},
   "outputs": [
    {
     "name": "stdout",
     "output_type": "stream",
     "text": [
      "191.53248083519193 182.9118228800631 187.1724658330241\n",
      "ошибки:  2.452650835191946 6.168007119936874 1.9073641669758956\n"
     ]
    }
   ],
   "source": [
    "F_right = sum([f(df.x[i]) * h for i in range(1, len(df.x))])\n",
    "F_left = sum([f(df.x[i-1]) * h for i in range(1, len(df.x))])\n",
    "F_trapezoids = sum([f((df.x[i-1] + df.x[i]) / 2) * h for i in range(1, len(df.x))])\n",
    "\n",
    "print(F_right, F_left, F_trapezoids)\n",
    "print('ошибки: ', np.abs(result - F_right), np.abs(result - F_left), np.abs(result - F_trapezoids))"
   ]
  },
  {
   "cell_type": "code",
   "execution_count": null,
   "id": "c828a5bc",
   "metadata": {},
   "outputs": [],
   "source": []
  },
  {
   "cell_type": "code",
   "execution_count": 49,
   "id": "8f5aedb8",
   "metadata": {},
   "outputs": [
    {
     "data": {
      "text/plain": [
       "184.3654723977194"
      ]
     },
     "execution_count": 49,
     "metadata": {},
     "output_type": "execute_result"
    }
   ],
   "source": []
  },
  {
   "cell_type": "code",
   "execution_count": 68,
   "id": "5efad049",
   "metadata": {},
   "outputs": [
    {
     "name": "stdout",
     "output_type": "stream",
     "text": [
      "189.07983088623283\n",
      "ошибки:  8.862328400027764e-07\n"
     ]
    }
   ],
   "source": [
    "def simpsons_method(f, a, b, n):\n",
    "    h = (b - a) / n\n",
    "    x = np.linspace(a, b, n + 1)\n",
    "    y = f(x)\n",
    "\n",
    "    integral = y[0] + y[n] \n",
    "    integral += 2 * sum(y[i] for i in range(2, n, 2))\n",
    "    integral += 4 * sum(y[i] for i in range(1, n, 2))\n",
    "    integral *= h / 3\n",
    "    return integral\n",
    "\n",
    "\n",
    "F_simpson = simpsons_method(f, a, b, n)\n",
    "print(F_simpson)\n",
    "print('ошибки: ', np.abs(result - F_simpson))"
   ]
  },
  {
   "cell_type": "code",
   "execution_count": null,
   "id": "e52d17f0",
   "metadata": {},
   "outputs": [],
   "source": []
  }
 ],
 "metadata": {
  "kernelspec": {
   "display_name": "Python 3 (ipykernel)",
   "language": "python",
   "name": "python3"
  },
  "language_info": {
   "codemirror_mode": {
    "name": "ipython",
    "version": 3
   },
   "file_extension": ".py",
   "mimetype": "text/x-python",
   "name": "python",
   "nbconvert_exporter": "python",
   "pygments_lexer": "ipython3",
   "version": "3.11.7"
  }
 },
 "nbformat": 4,
 "nbformat_minor": 5
}
