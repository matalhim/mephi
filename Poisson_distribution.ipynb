{
  "nbformat": 4,
  "nbformat_minor": 0,
  "metadata": {
    "colab": {
      "provenance": [],
      "authorship_tag": "ABX9TyPFLOSyePqz4CR5yCSRM1+X",
      "include_colab_link": true
    },
    "kernelspec": {
      "name": "python3",
      "display_name": "Python 3"
    },
    "language_info": {
      "name": "python"
    }
  },
  "cells": [
    {
      "cell_type": "markdown",
      "metadata": {
        "id": "view-in-github",
        "colab_type": "text"
      },
      "source": [
        "<a href=\"https://colab.research.google.com/github/matalhim/mephi/blob/master/Poisson_distribution.ipynb\" target=\"_parent\"><img src=\"https://colab.research.google.com/assets/colab-badge.svg\" alt=\"Open In Colab\"/></a>"
      ]
    },
    {
      "cell_type": "markdown",
      "source": [
        "##распределение Пуассона\n",
        "$P_{n} = \\frac{\\lambda^n}{n!} \\cdot e^{-\\lambda}$\n",
        "<br>\n",
        "<br>\n",
        "Доверительный интервал 0.95\n",
        "\n",
        "Условие на правую границу погрешности\n",
        "\n",
        "$\\sum_{n=0}^{n=k} P_{n, \\lambda_{r}} = 0.025$\n",
        "\n",
        "Условие на левую границу погрешности\n",
        "\n",
        "$\\sum_{n=k}^{\\infty} P_{n, \\lambda_{l}} = 0.025$, либо $\\sum_{n=0}^{k-1} P_{n, \\lambda_{l}}=0.975$\n",
        "<br>\n",
        "<br>\n",
        "$\\sum_{n=0}^{k} P_{n, \\lambda} = \\sum_{n=0}^{k}\\frac{\\lambda^n}{n!} \\cdot e^{-\\lambda} = e^{-\\lambda}(1 +\n",
        "\\frac{\\lambda}{1!} + \\frac{\\lambda^2}{2!} + \\frac{\\lambda^3}{3!}+...+\n",
        "\\frac{\\lambda^k}{k!})\n",
        "$\n",
        "<br>\n",
        "<br>\n",
        "Правая граница:\n",
        "\n",
        "$e^{-\\lambda_{r}}(1 +\n",
        "\\frac{\\lambda_{r}}{1!} + \\frac{\\lambda_{r}^2}{2!} + \\frac{\\lambda_{r}^3}{3!}+...+\n",
        "\\frac{\\lambda_{r}^k}{k!}) = 0.025\\\\\n",
        "k = 0,1,...,30$\n",
        "<br>\n",
        "<br>\n",
        "Левая граница:\n",
        "\n",
        "$e^{-\\lambda_{l}}(1 +\n",
        "\\frac{\\lambda_{l}}{1!} + \\frac{\\lambda_{l}^2}{2!} + \\frac{\\lambda_{l}^3}{3!}+...+\n",
        "\\frac{\\lambda_{l}^{k-1}}{(k-1)!}) = 0.975\\\\\n",
        "k = 1,...,30$\n",
        "<br>\n",
        "<br>\n",
        "\n",
        "$\n",
        "\\sigma_{l} = k - \\lambda_{l}\\\\\n",
        "\\sigma_{r} = \\lambda_{r} - k\n",
        "$\n",
        "\n"
      ],
      "metadata": {
        "id": "usCh5MeFd5O7"
      }
    },
    {
      "cell_type": "code",
      "execution_count": null,
      "metadata": {
        "colab": {
          "base_uri": "https://localhost:8080/"
        },
        "id": "nOMFKB_XWuK1",
        "outputId": "9192add1-a0be-4a68-d71a-ca9af0950cd1"
      },
      "outputs": [
        {
          "output_type": "stream",
          "name": "stdout",
          "text": [
            "\n",
            "Правые погрешности\n"
          ]
        },
        {
          "output_type": "stream",
          "name": "stderr",
          "text": [
            "<ipython-input-161-1e7d8b159809>:9: RuntimeWarning: overflow encountered in exp\n",
            "  return np.exp(-x) * np.sum([x ** n / math.factorial(n) for n in range(k+1)]) - 0.025\n"
          ]
        },
        {
          "output_type": "stream",
          "name": "stdout",
          "text": [
            "k                   Bisect λᵣ              σᵣ               Newton λᵣ              σᵣ               Brentq λᵣ              σᵣ               Ridder λᵣ              σᵣ               \n",
            "0                   3.688879            3.688879            3.688879            3.688879            3.688879            3.688879            3.688879            3.688879            \n",
            "1                   5.571643            4.571643            5.571643            4.571643            5.571643            4.571643            5.571643            4.571643            \n",
            "2                   7.224688            5.224688            7.224688            5.224688            7.224688            5.224688            7.224688            5.224688            \n",
            "3                   8.767273            5.767273            -462.094859         -465.094859         8.767273            5.767273            8.767273            5.767273            \n",
            "4                   10.241589           6.241589            64.369060           60.369060           10.241589           6.241589            10.241589           6.241589            \n",
            "5                   11.668332           6.668332            318.846074          313.846074          11.668332           6.668332            11.668332           6.668332            \n",
            "6                   13.059474           7.059474            1909.090356         1903.090356         13.059474           7.059474            13.059474           7.059474            \n",
            "7                   14.422675           7.422675            13359.606490        13352.606490        14.422675           7.422675            14.422675           7.422675            \n",
            "8                   15.763189           7.763189            106827.231655       106819.231655       15.763189           7.763189            15.763189           7.763189            \n",
            "9                   17.084803           8.084803            976585.103319       976576.103319       17.084803           8.084803            17.084803           8.084803            \n",
            "10                  18.390356           8.390356            10066330.496262     10066320.496262     18.390356           8.390356            18.390356           8.390356            \n",
            "11                  19.682039           8.682039            130862285.688383    130862274.688383    19.682039           8.682039            19.682039           8.682039            \n",
            "12                  20.961585           8.961585            1.000000            -11.000000          20.961585           8.961585            20.961585           8.961585            \n",
            "13                  22.230396           9.230396            1.000000            -12.000000          22.230396           9.230396            22.230396           9.230396            \n",
            "14                  23.489621           9.489621            nan                 nan                 23.489621           9.489621            23.489621           9.489621            \n",
            "15                  24.740219           9.740219            nan                 nan                 24.740219           9.740219            24.740219           9.740219            \n",
            "16                  25.982998           9.982998            nan                 nan                 25.982998           9.982998            25.982998           9.982998            \n",
            "17                  27.218647           10.218647           nan                 nan                 27.218647           10.218647           27.218647           10.218647           \n",
            "18                  28.447760           10.447760           nan                 nan                 28.447760           10.447760           28.447760           10.447760           \n",
            "19                  29.670854           10.670854           nan                 nan                 29.670854           10.670854           29.670854           10.670854           \n",
            "20                  30.888378           10.888378           nan                 nan                 30.888378           10.888378           30.888378           10.888378           \n",
            "21                  32.100731           11.100731           65431143.400000     65431122.400000     32.100731           11.100731           32.100731           11.100731           \n",
            "22                  33.308264           11.308264           65431143.400000     65431121.400000     33.308264           11.308264           33.308264           11.308264           \n",
            "23                  34.511293           11.511293           65431143.400000     65431120.400000     34.511293           11.511293           34.511293           11.511293           \n",
            "24                  35.710098           11.710098           65431143.400000     65431119.400000     35.710098           11.710098           35.710098           11.710098           \n",
            "25                  36.904932           11.904932           65431143.400000     65431118.400000     36.904932           11.904932           36.904932           11.904932           \n",
            "26                  38.096024           12.096024           65431143.400000     65431117.400000     38.096024           12.096024           38.096024           12.096024           \n",
            "27                  39.283582           12.283582           65431143.400000     65431116.400000     39.283582           12.283582           39.283582           12.283582           \n",
            "28                  40.467796           12.467796           65431143.400000     65431115.400000     40.467796           12.467796           40.467796           12.467796           \n",
            "29                  41.648837           12.648837           65431143.400000     65431114.400000     41.648837           12.648837           41.648837           12.648837           \n",
            "30                  42.826865           12.826865           65431143.400000     65431113.400000     42.826865           12.826865           42.826865           12.826865           \n",
            "\n",
            "\n",
            "Левые погрешности:\n"
          ]
        },
        {
          "output_type": "stream",
          "name": "stderr",
          "text": [
            "<ipython-input-161-1e7d8b159809>:19: RuntimeWarning: overflow encountered in exp\n",
            "  return np.exp(-x) * np.sum([x ** n / math.factorial(n) for n in range(k)]) - 0.975\n"
          ]
        },
        {
          "output_type": "stream",
          "name": "stdout",
          "text": [
            "k                   Bisect λₗ                σₗ               Newton λₗ                σₗ               Brentq λₗ                σₗ               Ridder λₗ                σₗ               \n",
            "0                   0                   0                   0                   0                   0                   0                   0                   0                   \n",
            "1                   0.025318            0.974682            0.025318            0.974682            0.025318            0.974682            0.025318            0.974682            \n",
            "2                   0.242209            1.757791            0.242209            1.757791            0.242209            1.757791            0.242209            1.757791            \n",
            "3                   0.618672            2.381328            0.618672            2.381328            0.618672            2.381328            0.618672            2.381328            \n",
            "4                   1.089865            2.910135            1.089865            2.910135            1.089865            2.910135            1.089865            2.910135            \n",
            "5                   1.623486            3.376514            1.623486            3.376514            1.623486            3.376514            1.623486            3.376514            \n",
            "6                   2.201894            3.798106            -1.334958           7.334958            2.201894            3.798106            2.201894            3.798106            \n",
            "7                   2.814363            4.185637            49.766653           -42.766653          2.814363            4.185637            2.814363            4.185637            \n",
            "8                   3.453832            4.546168            343.391545          -335.391545         3.453832            4.546168            3.453832            4.546168            \n",
            "9                   4.115373            4.884627            2740.014023         -2731.014023        4.115373            4.884627            4.115373            4.884627            \n",
            "10                  4.795389            5.204611            25041.509289        -25031.509289       4.795389            5.204611            4.795389            5.204611            \n",
            "11                  5.491160            5.508840            258111.911647       -258100.911647      5.491160            5.508840            5.491160            5.508840            \n",
            "12                  6.200575            5.799425            3355444.088383      -3355432.088383     6.200575            5.799425            6.200575            5.799425            \n",
            "13                  6.921952            6.078048            1.000000            12.000000           6.921952            6.078048            6.921952            6.078048            \n",
            "14                  7.653930            6.346070            1.000000            13.000000           7.653930            6.346070            7.653930            6.346070            \n",
            "15                  8.395386            6.604614            nan                 nan                 8.395386            6.604614            8.395386            6.604614            \n",
            "16                  9.145382            6.854618            nan                 nan                 9.145382            6.854618            9.145382            6.854618            \n",
            "17                  9.903126            7.096874            nan                 nan                 9.903126            7.096874            9.903126            7.096874            \n",
            "18                  10.667941           7.332059            nan                 nan                 10.667941           7.332059            10.667941           7.332059            \n",
            "19                  11.439241           7.560759            nan                 nan                 11.439241           7.560759            11.439241           7.560759            \n",
            "20                  12.216520           7.783480            nan                 nan                 12.216520           7.783480            12.216520           7.783480            \n",
            "21                  12.999331           8.000669            nan                 nan                 12.999331           8.000669            12.999331           8.000669            \n",
            "22                  13.787283           8.212717            1677722.600000      -1677700.600000     13.787283           8.212717            13.787283           8.212717            \n",
            "23                  14.580027           8.419973            1677722.600000      -1677699.600000     14.580027           8.419973            14.580027           8.419973            \n",
            "24                  15.377253           8.622747            1677722.600000      -1677698.600000     15.377253           8.622747            15.377253           8.622747            \n",
            "25                  16.178682           8.821318            1677722.600000      -1677697.600000     16.178682           8.821318            16.178682           8.821318            \n",
            "26                  16.984063           9.015937            1677722.600000      -1677696.600000     16.984063           9.015937            16.984063           9.015937            \n",
            "27                  17.793170           9.206830            1677722.600000      -1677695.600000     17.793170           9.206830            17.793170           9.206830            \n",
            "28                  18.605797           9.394203            1677722.600000      -1677694.600000     18.605797           9.394203            18.605797           9.394203            \n",
            "29                  19.421755           9.578245            1677722.600000      -1677693.600000     19.421755           9.578245            19.421755           9.578245            \n",
            "30                  20.240874           9.759126            1677722.600000      -1677692.600000     20.240874           9.759126            20.240874           9.759126            \n",
            "\n"
          ]
        }
      ],
      "source": [
        "from scipy.optimize import bisect, newton, root_scalar\n",
        "import numpy as np\n",
        "import matplotlib.pyplot as plt\n",
        "import numpy as np\n",
        "import math\n",
        "\n",
        "def calculate_lambda_right(k):\n",
        "    def f(x):\n",
        "            return np.exp(-x) * np.sum([x ** n / math.factorial(n) for n in range(k+1)]) - 0.025\n",
        "    a, b = 0, 1\n",
        "    while np.sign(f(a)) == np.sign(f(b)):\n",
        "        b += 1\n",
        "\n",
        "    return bisect(f, a, b), root_scalar(f, method='newton', x0=1).root, root_scalar(f, method='brentq', bracket=[a, b]).root, root_scalar(f, method='ridder', bracket=[a, b]).root\n",
        "\n",
        "\n",
        "def calculate_lambda_left(k):\n",
        "    def f(x):\n",
        "        return np.exp(-x) * np.sum([x ** n / math.factorial(n) for n in range(k)]) - 0.975\n",
        "\n",
        "    a, b = 0, 1\n",
        "    while np.sign(f(a)) == np.sign(f(b)):\n",
        "        b += 1\n",
        "\n",
        "    return bisect(f, a, b), root_scalar(f, method='newton', x0=1).root, root_scalar(f, method='brentq', bracket=[a, b]).root, root_scalar(f, method='ridder', bracket=[a, b]).root\n",
        "\n",
        "\n",
        "\n",
        "def calculate_sigma_right(k, lamda):\n",
        "    return lamda - k\n",
        "\n",
        "def calculate_sigma_left(k, lamda):\n",
        "    return k - lamda\n",
        "\n",
        "print(\"\\nПравые погрешности\")\n",
        "header = \"{:<20}{:<20}{:<20}{:<20}{:<20}{:<20}{:<20}{:<20}{:<20}\".format(\n",
        "    \"k\", \"Bisect lamda\", 'sigma', \"Newton lamda\", 'sigma', \"Brentq lamda\", 'sigma', \"Ridder lamda\", 'sigma'\n",
        ")\n",
        "header = header.replace('sigma', 'σᵣ'.ljust(1)).replace('lamda', 'λᵣ'.ljust(8))\n",
        "table = \"\"\n",
        "for k in range(31):\n",
        "    right_bisect, right_newton, right_brentq, right_ridder = calculate_lambda_right(k)\n",
        "\n",
        "    right_sigma_bisect = calculate_sigma_right(k, right_bisect)\n",
        "    right_sigma_newton = calculate_sigma_right(k, right_newton)\n",
        "    right_sigma_brentq = calculate_sigma_right(k, right_brentq)\n",
        "    right_sigma_ridder = calculate_sigma_right(k, right_ridder)\n",
        "\n",
        "    row = \"{:<20}{:<20.6f}{:<20.6f}{:<20.6f}{:<20.6f}{:<20.6f}{:<20.6f}{:<20.6f}{:<20.6f}\\n\".format(\n",
        "        k, right_bisect, right_sigma_bisect, right_newton, right_sigma_newton, right_brentq, right_sigma_brentq, right_ridder, right_sigma_ridder\n",
        "    )\n",
        "    table += row\n",
        "\n",
        "print(header + \"\\n\" + table)\n",
        "\n",
        "print(\"\\nЛевые погрешности:\")\n",
        "header = \"{:<20}{:<20}{:<20}{:<20}{:<20}{:<20}{:<20}{:<20}{:<20}\".format(\n",
        "    \"k\", \"Bisect lamda\", 'sigma', \"Newton lamda\", 'sigma', \"Brentq lamda\", 'sigma', \"Ridder lamda\", 'sigma'\n",
        ")\n",
        "header = header.replace('sigma', 'σₗ'.ljust(1)).replace('lamda', 'λₗ'.ljust(10))\n",
        "table = \"\"\n",
        "for k in range(31):\n",
        "    if k != 0:\n",
        "        left_bisect, left_newton, left_brentq, left_ridder = calculate_lambda_left(k)\n",
        "\n",
        "        left_sigma_bisect = calculate_sigma_left(k, left_bisect)\n",
        "        left_sigma_newton = calculate_sigma_left(k, left_newton)\n",
        "        left_sigma_brentq = calculate_sigma_left(k, left_brentq)\n",
        "        left_sigma_ridder = calculate_sigma_left(k, left_ridder)\n",
        "\n",
        "        row = \"{:<20}{:<20.6f}{:<20.6f}{:<20.6f}{:<20.6f}{:<20.6f}{:<20.6f}{:<20.6f}{:<20.6f}\\n\".format(\n",
        "            k, left_bisect, left_sigma_bisect, left_newton, left_sigma_newton, left_brentq, left_sigma_brentq,  left_ridder, left_sigma_ridder)\n",
        "    else:\n",
        "        row = \"{:<20}{:<20}{:<20}{:<20}{:<20}{:<20}{:<20}{:<20}{:<20}\\n\".format(\n",
        "            k, 0, 0, 0, 0, 0, 0, 0, 0)\n",
        "\n",
        "    table += row\n",
        "\n",
        "print(header + \"\\n\" + table)\n"
      ]
    },
    {
      "cell_type": "markdown",
      "source": [
        "Метод простой итерации\n",
        "\n",
        "$x=\\varphi(x)\\\\\n",
        "x_{n+1} = \\varphi(x_{n}); n = 0,1,2, ...$\n",
        "\n",
        "сходимость:\n",
        "\n",
        "$|\\varphi(x_{*})| < 1$"
      ],
      "metadata": {
        "id": "c6T0m_iZg4H_"
      }
    },
    {
      "cell_type": "code",
      "source": [
        "import numpy as np\n",
        "from scipy.misc import derivative\n",
        "\n",
        "\n",
        "def right_f(x, k):\n",
        "    return np.exp(-x) * np.sum([x ** n / math.factorial(n) for n in range(k+1)]) - 0.025\n",
        "\n",
        "def left_f(x, k):\n",
        "    return np.exp(-x) * np.sum([x ** n / math.factorial(n) for n in range(k)]) - 0.975\n",
        "\n",
        "def right_phi(x, k):\n",
        "    return -np.log(0.025 / np.sum([x ** n / math.factorial(n) for n in range(k+1)]))\n",
        "\n",
        "def left_phi(x, k):\n",
        "    return -np.log(0.975 / np.sum([x ** n / math.factorial(n) for n in range(k)]))\n",
        "\n",
        "def iteration_method(phi):\n",
        "    epsilon = 1e-6\n",
        "    k = 5\n",
        "    x_current = 4\n",
        "    x_next = 0\n",
        "    x_values= []\n",
        "    x_previous = 0\n",
        "    for i in range(1000):\n",
        "        x_next = phi(x_current, k)\n",
        "        x_values.append(x_next)\n",
        "        if np.abs((x_next - x_current) / (1 - (x_next - x_current) / (x_current - x_previous))) <= epsilon:\n",
        "            break\n",
        "        x_previous = x_current\n",
        "        x_current = x_next\n",
        "    print('итераций: ', i)\n",
        "    return x_values\n",
        "\n",
        "\n",
        "\n",
        "x_iterations_r = iteration_method(right_phi)\n",
        "x_iterations_l = iteration_method(left_phi)\n",
        "print('k = ', k)\n",
        "print('λᵣ = {}\\nλₗ = {}'.format(x_iterations_r[-1], x_iterations_l[-1]))\n",
        "\n",
        "x_values_r = np.arange(np.min(x_iterations_r), np.max(x_iterations_r), 0.01)\n",
        "x_values_l = np.arange(np.min(x_iterations_l), np.max(x_iterations_l), 0.01)\n",
        "derivative_values_r = []\n",
        "derivative_values_l = []\n",
        "for x0 in x_values_r:\n",
        "    derivative_values_r.append(derivative(right_phi, x0, args=(k,), dx=1e-6))\n",
        "for x0 in x_values_l:\n",
        "    derivative_values_l.append(derivative(left_phi, x0, args=(k,), dx=1e-6))\n",
        "\n",
        "print('мсксимальный правый |φ(x∗)|: ', max(derivative_values_r, key=abs))\n",
        "print('мсксимальный левый |φ(x∗)|: ', max(derivative_values_l, key=abs))"
      ],
      "metadata": {
        "colab": {
          "base_uri": "https://localhost:8080/"
        },
        "id": "qY3Cd_knIh9_",
        "outputId": "4be29254-c9b2-4734-e087-ee7d0c7d153b"
      },
      "execution_count": null,
      "outputs": [
        {
          "output_type": "stream",
          "name": "stdout",
          "text": [
            "итераций:  18\n",
            "итераций:  225\n",
            "k =  5\n",
            "λᵣ = 11.668331901544647\n",
            "λₗ = 1.6234872782585719\n",
            "мсксимальный правый |φ(x∗)|:  0.5498718964602745\n",
            "мсксимальный левый |φ(x∗)|:  0.9414525266038254\n"
          ]
        },
        {
          "output_type": "stream",
          "name": "stderr",
          "text": [
            "<ipython-input-222-51c0304d37f4>:46: DeprecationWarning: scipy.misc.derivative is deprecated in SciPy v1.10.0; and will be completely removed in SciPy v1.12.0. You may consider using findiff: https://github.com/maroba/findiff or numdifftools: https://github.com/pbrod/numdifftools\n",
            "  derivative_values_r.append(derivative(right_phi, x0, args=(k,), dx=1e-6))\n",
            "<ipython-input-222-51c0304d37f4>:48: DeprecationWarning: scipy.misc.derivative is deprecated in SciPy v1.10.0; and will be completely removed in SciPy v1.12.0. You may consider using findiff: https://github.com/maroba/findiff or numdifftools: https://github.com/pbrod/numdifftools\n",
            "  derivative_values_l.append(derivative(left_phi, x0, args=(k,), dx=1e-6))\n"
          ]
        }
      ]
    },
    {
      "cell_type": "markdown",
      "source": [
        "Метод дихотомии\n",
        "\n",
        "$f(a)\\cdot f(b) < 0\\\\\n",
        "|x_{n}-x_{n-1}| = \\frac{b-a}{2^n} $"
      ],
      "metadata": {
        "id": "8HeSYqjio-is"
      }
    },
    {
      "cell_type": "code",
      "source": [
        "import numpy as np\n",
        "\n",
        "def right_f(x, k):\n",
        "    return np.exp(-x) * np.sum([x ** n / math.factorial(n) for n in range(k+1)]) - 0.025\n",
        "\n",
        "def left_f(x, k):\n",
        "    return np.exp(-x) * np.sum([x ** n / math.factorial(n) for n in range(k)]) - 0.975\n",
        "\n",
        "def dichotomy_method(f):\n",
        "    x_next, x = 0, 1\n",
        "    while np.sign(f(x_next, k)) == np.sign(f(x, k)):\n",
        "        x_next += 1\n",
        "\n",
        "    epsilon = 1e-6\n",
        "    for i in range(1000):\n",
        "        if np.abs(x_next - x) < epsilon:\n",
        "            return x_next\n",
        "        if np.sign(f((x_next + x) / 2, k)) == np.sign(f(x, k)):\n",
        "            x, x_next = x_next, (x_next + x) / 2\n",
        "        else:\n",
        "            x_next = (x_next + x) / 2\n",
        "\n",
        "\n",
        "k = 5\n",
        "x_dichotomy_r = dichotomy_method(right_f)\n",
        "print(x_dichotomy_r)\n",
        "x_dichotomy_l = dichotomy_method(left_f)\n",
        "print(x_dichotomy_l)\n",
        "\n",
        "\n",
        "\n"
      ],
      "metadata": {
        "colab": {
          "base_uri": "https://localhost:8080/"
        },
        "id": "wWusXRGio-q8",
        "outputId": "d708b6cb-645a-490e-f4c9-9bf96dc50aed"
      },
      "execution_count": null,
      "outputs": [
        {
          "output_type": "stream",
          "name": "stdout",
          "text": [
            "11.668331682682037\n",
            "1.6234865188598633\n"
          ]
        }
      ]
    },
    {
      "cell_type": "markdown",
      "source": [
        "##Задача 2\n",
        "\\begin{equation*}\n",
        "A_{\\varphi} =\n",
        "\\begin{pmatrix}\n",
        "2 & -5 & 8 \\\\\n",
        "-1 & 2 & -3 \\\\\n",
        "2 & -5 & 7 \\\\\n",
        "\\end{pmatrix}\n",
        "\\end{equation*}\n",
        "<br>\n",
        "<br>\n",
        "\n",
        "\\begin{equation*}\n",
        "\\mathbf{e_{1}} =\n",
        "\\begin{pmatrix}\n",
        "1 & 1 & -4\\\n",
        "\\end{pmatrix}^{T}\n",
        "\\end{equation*}\n",
        "\n",
        "\\begin{equation*}\n",
        "\\mathbf{e_{2}} =\n",
        "\\begin{pmatrix}\n",
        "1 & 2 & -6\\\n",
        "\\end{pmatrix}^{T}\n",
        "\\end{equation*}\n",
        "\n",
        "\\begin{equation*}\n",
        "\\mathbf{e_{3}} =\n",
        "\\begin{pmatrix}\n",
        "1 & -1 & -1\\\n",
        "\\end{pmatrix}^{T}\n",
        "\\end{equation*}\n",
        "\n",
        "<br>\n",
        "<br>\n",
        "\n",
        "\\begin{equation*}\n",
        "\\mathbf{\\overline{e_{1}}} =\n",
        "\\begin{pmatrix}\n",
        "1 & 1 & 0\\\n",
        "\\end{pmatrix}^{T}\n",
        "\\end{equation*}\n",
        "\n",
        "\\begin{equation*}\n",
        "\\mathbf{\\overline{e_{2}}} =\n",
        "\\begin{pmatrix}\n",
        "2 & 3 & 2\\\n",
        "\\end{pmatrix}^{T}\n",
        "\\end{equation*}\n",
        "\n",
        "\\begin{equation*}\n",
        "\\mathbf{\\overline{e_{3}}} =\n",
        "\\begin{pmatrix}\n",
        "2 & 4 & -5\\\n",
        "\\end{pmatrix}^{T}\n",
        "\\end{equation*}\n"
      ],
      "metadata": {
        "id": "7nbzrXQg1eYA"
      }
    },
    {
      "cell_type": "code",
      "source": [
        "import numpy as np\n",
        "A_P = np.array([[2, -5, 8],\n",
        "                [-1, 2, -3],\n",
        "                [2, -5, 7]])\n",
        "\n",
        "P = np.array([[1, 1, 1],\n",
        "              [1, 2, -1],\n",
        "              [-4, -6, 1]])\n",
        "\n",
        "Q = np.array([[1, 2, 2],\n",
        "              [1, 3, 4],\n",
        "              [0, 2, 5]])\n",
        "\n",
        "A_P = np.array([[3, 0], [1, 3]])\n",
        "\n",
        "P1 = np.array([[1, 1],\n",
        "              [1, 2]])\n",
        "\n",
        "Q1 = np.array([[1, 2],\n",
        "              [0, 1],])\n"
      ],
      "metadata": {
        "id": "-JHQu9oc0htn"
      },
      "execution_count": null,
      "outputs": []
    },
    {
      "cell_type": "code",
      "source": [
        "P_inv = np.linalg.inv(P)\n",
        "\n",
        "T1 = np.linalg.inv(P1) @ Q1\n",
        "T = np.dot(P_inv, Q)\n",
        "\n",
        "print(\"Матрица перехода T:\", T1)\n",
        "print(T)"
      ],
      "metadata": {
        "colab": {
          "base_uri": "https://localhost:8080/"
        },
        "id": "ZJ4mxaGtIaem",
        "outputId": "ffcbf057-a162-4e1c-cb05-db2f4a593de1"
      },
      "execution_count": null,
      "outputs": [
        {
          "output_type": "stream",
          "name": "stdout",
          "text": [
            "Матрица перехода T: [[  2. -10. -19.]\n",
            " [  1.  -5.  -9.]\n",
            " [  0.   1.   2.]]\n",
            "[[-11. -35. -51.]\n",
            " [  8.  25.  36.]\n",
            " [  4.  12.  17.]]\n"
          ]
        }
      ]
    },
    {
      "cell_type": "code",
      "source": [
        "T_inv = np.linalg.inv(T)\n",
        "A_Q = np.dot(np.dot(T_inv, A_P), T)\n",
        "print(A_Q)"
      ],
      "metadata": {
        "colab": {
          "base_uri": "https://localhost:8080/"
        },
        "id": "xbcUxWZeJE7L",
        "outputId": "5559f989-64b5-4e17-871d-f0a0ae4dc1d8"
      },
      "execution_count": null,
      "outputs": [
        {
          "output_type": "stream",
          "name": "stdout",
          "text": [
            "[[ -555. -1805. -2647.]\n",
            " [  423.  1373.  2012.]\n",
            " [ -170.  -551.  -807.]]\n"
          ]
        }
      ]
    }
  ]
}