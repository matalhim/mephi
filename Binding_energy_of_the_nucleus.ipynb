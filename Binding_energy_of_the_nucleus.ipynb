{
  "nbformat": 4,
  "nbformat_minor": 0,
  "metadata": {
    "colab": {
      "provenance": [],
      "authorship_tag": "ABX9TyMUjHfAv1DFAwkpUOiExVod",
      "include_colab_link": true
    },
    "kernelspec": {
      "name": "python3",
      "display_name": "Python 3"
    },
    "language_info": {
      "name": "python"
    }
  },
  "cells": [
    {
      "cell_type": "markdown",
      "metadata": {
        "id": "view-in-github",
        "colab_type": "text"
      },
      "source": [
        "<a href=\"https://colab.research.google.com/github/matalhim/mephi/blob/master/Binding_energy_of_the_nucleus.ipynb\" target=\"_parent\"><img src=\"https://colab.research.google.com/assets/colab-badge.svg\" alt=\"Open In Colab\"/></a>"
      ]
    },
    {
      "cell_type": "markdown",
      "source": [
        "# Энергия связи ядра (формула Вайцзеккера)\n",
        "$ W(A,Z) = \\alpha A - \\beta A^{2/3} - \\gamma \\frac{Z(Z-1)}{A^{1/3}} - \\delta \\frac{(A-2Z)^2}{A} + \\zeta A^{-3/4}$"
      ],
      "metadata": {
        "id": "6NumRjXyKaRr"
      }
    },
    {
      "cell_type": "markdown",
      "source": [
        "$^3\\text{H},\\ ^5\\text{He},\\ ^7\\text{Li},\\ ^9\\text{B},\\ ^{11}\\text{B},\\ ^{11}\\text{C},\\ ^{13}\\text{C},\\ ^{13}\\text{N},\\ ^{15}\\text{N},\\ ^{17}\\text{O},\\ ^{19}\\text{Ne},\\ ^{23}\\text{Na},\\ ^{23}\\text{Mg},\\ ^{25}\\text{Mg},\\ ^{27}\\text{Al},\\ ^{27}\\text{Si},\\ ^{29}\\text{Si},\\ ^{31}\\text{Si},\\ ^{33}\\text{S},\\ ^{35}\\text{Cl},\\ ^{37}\\text{Ar},\\ ^{39}\\text{K},\\ ^{45}\\text{Sc},\\ ^{55}\\text{Mn},\\ ^{59}\\text{Fe},\\ ^{65}\\text{Ni},\\ ^{63}\\text{Cu},\\ ^{65}\\text{Cu},\\ ^{65}\\text{Zn},\\ ^{103}\\text{Rh},\\ ^{107}\\text{Ag},\\ ^{143}\\text{Ba},\\ ^{141}\\text{Pr},\\ ^{197}\\text{Au},\\ ^{207}\\text{Pb},\\ ^{233}\\text{Th},\\ ^{235}\\text{Pa},\\ ^{239}\\text{U},\\ ^{239}\\text{Pu}$\n"
      ],
      "metadata": {
        "id": "gwhHOIVLOo8s"
      }
    },
    {
      "cell_type": "markdown",
      "source": [
        "\\begin{array}{|c|c|c|c|}\n",
        "\\hline\n",
        "\\text{№} & \\text{Элемент} & A & Z \\\\\n",
        "\\hline\n",
        "1 & ^3\\text{H} & 3 & 1 \\\\\n",
        "2 & ^5\\text{He} & 5 & 2 \\\\\n",
        "3 & ^7\\text{Li} & 7 & 3 \\\\\n",
        "4 & ^9\\text{B} & 9 & 4 \\\\\n",
        "5 & ^{11}\\text{B} & 11 & 5 \\\\\n",
        "6 & ^{11}\\text{C} & 11 & 6 \\\\\n",
        "7 & ^{13}\\text{C} & 13 & 6 \\\\\n",
        "8 & ^{13}\\text{N} & 13 & 7 \\\\\n",
        "9 & ^{15}\\text{N} & 15 & 7 \\\\\n",
        "10 & ^{17}\\text{O} & 17 & 8 \\\\\n",
        "11 & ^{19}\\text{Ne} & 19 & 10 \\\\\n",
        "12 & ^{23}\\text{Na} & 23 & 11 \\\\\n",
        "13 & ^{23}\\text{Mg} & 23 & 12 \\\\\n",
        "14 & ^{25}\\text{Mg} & 25 & 12 \\\\\n",
        "15 & ^{27}\\text{Al} & 27 & 13 \\\\\n",
        "16 & ^{27}\\text{Si} & 27 & 14 \\\\\n",
        "17 & ^{29}\\text{Si} & 29 & 14 \\\\\n",
        "18 & ^{31}\\text{Si} & 31 & 14 \\\\\n",
        "19 & ^{33}\\text{S} & 33 & 16 \\\\\n",
        "20 & ^{35}\\text{Cl} & 35 & 17 \\\\\n",
        "21 & ^{37}\\text{Ar} & 37 & 18 \\\\\n",
        "22 & ^{39}\\text{K} & 39 & 19 \\\\\n",
        "23 & ^{45}\\text{Sc} & 45 & 21 \\\\\n",
        "24 & ^{55}\\text{Mn} & 55 & 25 \\\\\n",
        "25 & ^{59}\\text{Fe} & 59 & 26 \\\\\n",
        "26 & ^{65}\\text{Ni} & 65 & 28 \\\\\n",
        "27 & ^{63}\\text{Cu} & 63 & 29 \\\\\n",
        "28 & ^{65}\\text{Cu} & 65 & 29 \\\\\n",
        "29 & ^{65}\\text{Zn} & 65 & 30 \\\\\n",
        "30 & ^{103}\\text{Rh} & 103 & 45 \\\\\n",
        "31 & ^{107}\\text{Ag} & 107 & 47 \\\\\n",
        "32 & ^{143}\\text{Ba} & 143 & 56 \\\\\n",
        "33 & ^{141}\\text{Pr} & 141 & 59 \\\\\n",
        "34 & ^{197}\\text{Au} & 197 & 79 \\\\\n",
        "35 & ^{207}\\text{Pb} & 207 & 82 \\\\\n",
        "36 & ^{233}\\text{Th} & 233 & 90 \\\\\n",
        "37 & ^{235}\\text{Pa} & 235 & 91 \\\\\n",
        "38 & ^{239}\\text{U} & 239 & 92 \\\\\n",
        "39 & ^{239}\\text{Pu} & 239 & 94 \\\\\n",
        "\\hline\n",
        "\\end{array}"
      ],
      "metadata": {
        "id": "SQOZFwUuQM9G"
      }
    },
    {
      "cell_type": "code",
      "execution_count": 55,
      "metadata": {
        "id": "8LGMTEcOKXc6"
      },
      "outputs": [],
      "source": [
        "a_values = [3, 5, 7, 9, 11, 11, 13, 13, 15, 17, 19, 23, 23, 25, 27, 27, 29, 31, 33, 35, 37, 39, 45, 55, 59, 65, 63, 65, 65, 103, 107, 143, 141, 197, 207, 233, 235, 239, 239]\n",
        "z_values = [1, 2, 3, 4, 5, 6, 6, 7, 7, 8, 10, 11, 12, 12, 13, 14, 14, 14, 16, 17, 18, 19, 21, 25, 26, 28, 29, 29, 30, 45, 47, 56, 59, 79, 82, 90, 91, 92, 94]\n",
        "m_values= [3.016049, 5.012057, 7.016004, 9.013330, 11.009305, 11.011433, 13.003355, 13.005739, 15.000109, 16.999132, 19.001880, 22.989769, 22.994124, 24.985837, 26.981538, 26.986705,\n",
        "           28.976495, 30.975363, 32.971459, 34.968853, 36.966776, 38.963706, 44.955908, 54.938043, 58.934874, 64.930085, 62.929597, 64.927790, 64.929241,\n",
        "           102.905494, 106.905092, 142.920625, 140.907658, 196.966570, 206.975897, 233.041580, 235.045399, 239.054292, 239.052162]"
      ]
    },
    {
      "cell_type": "markdown",
      "source": [
        "$E_{св}(A,Z)= Zm_{p}+(A-Z)m_{n}-M(A,Z)$\n",
        "\n",
        "\n",
        "Энергия связи ядра где $Z$ - число протонов, $(A - Z)$ - число нейтронов, $m_p$ - масса протона, $m_n$ - масса нейтрона, $М(A,Z)$ - масса ядра с массовым числом $A$ и зарядом $Z$.\n",
        "\n"
      ],
      "metadata": {
        "id": "L47OgrJAewaq"
      }
    },
    {
      "cell_type": "code",
      "source": [
        "m_p = 938.272\n",
        "m_n = 931.565\n",
        "a_e_m = 931.5"
      ],
      "metadata": {
        "id": "YLXrT7jOfL7p"
      },
      "execution_count": 56,
      "outputs": []
    },
    {
      "cell_type": "code",
      "source": [
        "def calculate_true_E(a, z, m):\n",
        "    return z * m_p + (a - z) * m_n - m * a_e_m\n",
        "\n",
        "e_true_values = [calculate_true_E(a_values[i], z_values[i], m_values[i]) for i in range(len(a_values))]\n",
        "for i in range(len(e_true_values)):\n",
        "    print('{}: {}'.format(i+1, e_true_values[i]))"
      ],
      "metadata": {
        "colab": {
          "base_uri": "https://localhost:8080/"
        },
        "id": "Ojw9_1-DfYh2",
        "outputId": "1810b650-887d-4ee5-a41e-ca0d4cd499d1"
      },
      "execution_count": 64,
      "outputs": [
        {
          "output_type": "stream",
          "name": "stdout",
          "text": [
            "1: -8.04764350000005\n",
            "2: 2.5079045000002225\n",
            "3: 5.668274000001475\n",
            "4: 14.99610500000017\n",
            "5: 25.582392500000424\n",
            "6: 30.307160500002283\n",
            "7: 37.9618174999996\n",
            "8: 42.448121500001434\n",
            "9: 47.82246650000161\n",
            "10: 55.56954200000291\n",
            "11: 66.553780000002\n",
            "12: 84.80217650000122\n",
            "13: 87.45249400000102\n",
            "14: 95.3018345000055\n",
            "15: 106.14335299999948\n",
            "16: 108.03729250000106\n",
            "17: 117.67790750000495\n",
            "18: 118.8623654999974\n",
            "19: 136.04294149999987\n",
            "20: 145.30743049999728\n",
            "21: 154.07915599999978\n",
            "22: 163.77586100000917\n",
            "23: 184.84369799999695\n",
            "24: 228.96294550000312\n",
            "25: 238.88186900000437\n",
            "26: 257.14682249999896\n",
            "27: 264.1783945000061\n",
            "28: 265.991614999999\n",
            "29: 271.34700849999354\n",
            "30: 396.5423390000069\n",
            "31: 410.5908020000061\n",
            "32: 458.8248124999809\n",
            "33: 490.89457299999776\n",
            "34: 573.7980450000032\n",
            "35: 585.8809445000079\n",
            "36: 580.0432300000102\n",
            "37: 583.3228315000306\n",
            "38: 582.0060020000092\n",
            "39: 597.4040970000206\n"
          ]
        }
      ]
    },
    {
      "cell_type": "markdown",
      "source": [
        "Посчитаны истинные значения энергий для элементов из таблицы"
      ],
      "metadata": {
        "id": "DURgRNSAtyoR"
      }
    },
    {
      "cell_type": "markdown",
      "source": [
        "Далее, используя метод наименьших квадратов, ищется минимум функционала\n",
        "следующего вида:\n",
        "$F = (\\sum_{i} E_{true\\ i} - \\alpha \\sum_{i}A_{i} + \\beta \\sum_{i}A^{2/3}_{i} + \\gamma \\sum_{i}\\frac{Z_{i}(Z_{i}-1)}{A_{i}^{1/3}} + \\delta \\sum_{i}\\frac{(A_{i}-2Z_{i})^2}{A_{i}} - \\zeta \\sum_{i}A{i}^{-3/4})^2$ \\\\\n",
        "Условием поиска минимума функционала является приравнивание к нулю его\n",
        "частных производных по неизвестным параметрам $\\alpha,\\ \\beta,\\ \\gamma, \\ \\delta$:\n",
        "\n",
        "\n",
        "\\begin{cases}\n",
        "        \\frac{\\partial F}{\\partial \\alpha} = 0,\\\\\n",
        "        \\frac{\\partial F}{\\partial \\beta} = 0,\\\\\n",
        "        \\frac{\\partial F}{\\partial \\gamma} = 0,\\\\\n",
        "        \\frac{\\partial F}{\\partial \\delta} = 0,\\\\\n",
        "    \\end{cases}\\\n",
        "    \\begin{cases}\n",
        "        \\alpha \\sum_{i}A_{i} \\cdot A_{i} - \\beta \\sum_{i}A_{i}^{2/3}\\cdot A_{i} - \\gamma \\sum_{i}\\frac{Z_{i}(Z_{i}-1)}{A_{i}^{1/3}} \\cdot A_{i} - \\delta \\sum_{i}\\frac{(A_{i}-2Z_{i})^2}{A_{i}} \\cdot A_{i}  \\\\= \\sum_{i}E_{true\\ i} \\cdot A_{i} - \\zeta \\sum_{i}A_{i}^{-3/4} \\cdot A_{i}\\\\\n",
        "        \\\\\n",
        "        \\alpha \\sum_{i}A_{i} \\cdot A_{i}^{2/3} - \\beta \\sum_{i}A_{i}^{2/3}\\cdot A_{i}^{2/3} - \\gamma \\sum_{i}\\frac{Z_{i}(Z_{i}-1)}{A_{i}^{1/3}} \\cdot A_{i}^{2/3} - \\delta \\sum_{i}\\frac{(A_{i}-2Z_{i})^2}{A_{i}} \\cdot A_{i}^{2/3}   \\\\= \\sum_{i}E_{true\\ i} \\cdot A_{i}^{2/3} - \\zeta \\sum_{i}A_{i}^{-3/4} \\cdot A_{i}^{2/3}\\\\\n",
        "        \\\\\n",
        "        \\alpha \\sum_{i}A_{i} \\cdot \\frac{Z_{i}(Z_{i}-1)}{A_{i}^{1/3}} - \\beta \\sum_{i}A_{i}^{2/3}\\cdot \\frac{Z_{i}(Z_{i}-1)}{A_{i}^{1/3}} - \\gamma \\sum_{i}\\frac{Z_{i}(Z_{i}-1)}{A_{i}^{1/3}} \\cdot \\frac{Z_{i}(Z_{i}-1)}{A_{i}^{1/3}} - \\delta \\sum_{i}\\frac{(A_{i}-2Z_{i})^2}{A_{i}} \\cdot \\frac{Z_{i}(Z_{i}-1)}{A_{i}^{1/3}} \\\\= \\sum_{i}E_{true\\ i} \\cdot \\frac{Z_{i}(Z_{i}-1)}{A_{i}^{1/3}} - \\zeta \\sum_{i}A_{i}^{-3/4} \\cdot \\frac{Z_{i}(Z_{i}-1)}{A_{i}^{1/3}} \\\\\n",
        "        \\\\\n",
        "        \\alpha \\sum_{i}A_{i} \\cdot A_{i}^{-3/4} - \\beta \\sum_{i}A_{i}^{2/3}\\cdot A_{i}^{-3/4} - \\gamma \\sum_{i}\\frac{Z_{i}(Z_{i}-1)}{A_{i}^{1/3}} \\cdot A_{i}^{-3/4} - \\delta \\sum_{i}\\frac{(A_{i}-2Z_{i})^2}{A_{i}} \\cdot A_{i}^{-3/4}  \\\\= \\sum_{i}E_{true\\ i} \\cdot A_{i}^{-3/4} - \\zeta \\sum_{i}A_{i}^{-3/4} \\cdot A_{i}^{-3/4}\\\\\n",
        "    \\end{cases}"
      ],
      "metadata": {
        "id": "CWVP5NVDocWG"
      }
    },
    {
      "cell_type": "markdown",
      "source": [
        "Система уравнений может быть переписана в матричном виде:\n",
        "\n",
        "\n",
        "$\\vec{\\Omega} = M\\times\\vec{\\Theta}$\n",
        "\n",
        "где:\n",
        "$\\vec{\\Theta} = \\begin{pmatrix}\n",
        "\\alpha \\\\\n",
        "\\beta\\\\\n",
        "\\gamma \\\\\n",
        "\\delta \\\\\n",
        "\\end{pmatrix},\n",
        "\\vec{\\Omega} = \\begin{pmatrix}\n",
        "\\sum_{i}(E_{true\\ i} - \\zeta A_{i}^{-3/4}) \\cdot x_{i} \\\\\n",
        "\\sum_{i}(E_{true\\ i} - \\zeta A_{i}^{-3/4}) \\cdot y_{i} \\\\\n",
        "\\sum_{i}(E_{true\\ i} - \\zeta A_{i}^{-3/4}) \\cdot z_{i} \\\\\n",
        "\\sum_{i}(E_{true\\ i} - \\zeta A_{i}^{-3/4}) \\cdot \\xi_{i} \\\\\n",
        "\\end{pmatrix},\n",
        "$\n",
        "\n",
        "$\n",
        "M = \\begin{pmatrix}\n",
        "\\sum_{i} x_{i}^{2} & -\\sum_{i} x_{i}\\cdot y_{i} & -\\sum_{i}x_{i}\\cdot z_{i} & -\\sum_{i}x_{i}\\cdot \\xi_{i} \\\\\n",
        "\\sum_{i}x_{i}\\cdot y_{i} & -\\sum_{i} y_{i}^{2} & -\\sum_{i}y_{i}\\cdot z_{i} & -\\sum_{i}y_{i}\\cdot \\xi_{i} \\\\\n",
        "\\sum_{i}x_{i}\\cdot z_{i} & -\\sum_{i}y_{i}\\cdot z_{i} & -\\sum_{i} z_{i}^{2} & -\\sum_{i}z_{i}\\cdot \\xi_{i} \\\\\n",
        "\\sum_{i}x_{i}\\cdot \\xi_{i} & -\\sum_{i}y_{i}\\cdot \\xi_{i} & -\\sum_{i}z_{i}\\cdot \\xi_{i} &-\\sum_{i}\\xi_{i}^{2} \\\\\n",
        "\\end{pmatrix}\n",
        "$\n",
        "\n",
        "где:\n",
        "$\n",
        "x_{i} = A_{i}, \\ y_{i} = A^{2/3}_{i}, \\ z_{i} = \\frac{Z_{i}(Z_{i}-1)}{A_{i}^{1/3}}, \\ \\xi_{i} = \\frac{(A_{i}-2Z_{i})^2}{A_{i}}\n",
        "$"
      ],
      "metadata": {
        "id": "esaS2liPc7Nx"
      }
    },
    {
      "cell_type": "code",
      "source": [
        "def calculate_x_i(a):\n",
        "    return a\n",
        "\n",
        "def calculate_y_i(a):\n",
        "    return a ** (2/3)\n",
        "\n",
        "def calculate_z_i(a, z):\n",
        "    return z * (z-1) /(a ** (1/3))\n",
        "\n",
        "def calculate_xi_i(a, z):\n",
        "    return ((a-2*z) ** 2) / a"
      ],
      "metadata": {
        "id": "lqpa0T0Cklnx"
      },
      "execution_count": 58,
      "outputs": []
    },
    {
      "cell_type": "code",
      "source": [
        "omega = [0 for _ in range(4)]\n",
        "\n",
        "def calculate_zeta(a, z):\n",
        "    if a %2 == 0 and a %2 == 0:\n",
        "        return 34\n",
        "    elif a %2 != 0 and a %2 != 0:\n",
        "        return -34\n",
        "    else:\n",
        "        return 0\n",
        "\n",
        "for i in range(len(e_true_values)):\n",
        "    x = calculate_x_i(a_values[i])\n",
        "    y = calculate_y_i(a_values[i])\n",
        "    z = calculate_z_i(a_values[i], z_values[i])\n",
        "    xi = calculate_xi_i(a_values[i], z_values[i])\n",
        "    zeta = calculate_zeta(a_values[i], z_values[i])\n",
        "\n",
        "    omega[0] += (e_true_values[i] - zeta * a_values[i] ** (-3/4)) * x\n",
        "    omega[1] += (e_true_values[i] - zeta * a_values[i] ** (-3/4)) * y\n",
        "    omega[2] += (e_true_values[i] - zeta * a_values[i] ** (-3/4)) * z\n",
        "    omega[3] += (e_true_values[i] - zeta * a_values[i] ** (-3/4)) * xi\n",
        "print(omega)"
      ],
      "metadata": {
        "id": "2QHy-DydRoRb",
        "colab": {
          "base_uri": "https://localhost:8080/"
        },
        "outputId": "fd12a975-8a0b-4a78-f254-de6d021a1e34"
      },
      "execution_count": 59,
      "outputs": [
        {
          "output_type": "stream",
          "name": "stdout",
          "text": [
            "[1160402.2886780808, 215516.02700982708, 5789012.17643005, 44955.7234221758]\n"
          ]
        }
      ]
    },
    {
      "cell_type": "code",
      "source": [
        "import numpy as np\n",
        "\n",
        "m = np.zeros((4, 4))\n",
        "\n",
        "for i in range(len(e_true_values)):\n",
        "    x = calculate_x_i(a_values[i])\n",
        "    y = calculate_y_i(a_values[i])\n",
        "    z = calculate_z_i(a_values[i], z_values[i])\n",
        "    xi = calculate_xi_i(a_values[i], z_values[i])\n",
        "\n",
        "    m[0][0] += x ** 2\n",
        "    m[0][1] += - x * y\n",
        "    m[0][2] += - x * z\n",
        "    m[0][3] += - x * xi\n",
        "\n",
        "\n",
        "    m[1][1] += - y ** 2\n",
        "    m[1][2] += - y * z\n",
        "    m[1][3] += - y * xi\n",
        "\n",
        "    m[2][2] += - z ** 2\n",
        "    m[2][3] += - z * xi\n",
        "\n",
        "    m[3][3] += - xi ** 2\n",
        "m[1][0] = - m[0][1]\n",
        "m[2][0] = - m[0][2]\n",
        "m[3][0] = - m[0][3]\n",
        "m[2][1] =  m[1][2]\n",
        "m[3][1] =  m[1][3]\n",
        "m[3][2] =  m[2][3]\n",
        "print(m)\n",
        "\n"
      ],
      "metadata": {
        "colab": {
          "base_uri": "https://localhost:8080/"
        },
        "id": "yMTREHsXnsth",
        "outputId": "c164499d-c606-4f27-e5ff-a08818e932aa"
      },
      "execution_count": 60,
      "outputs": [
        {
          "output_type": "stream",
          "name": "stdout",
          "text": [
            "[[ 4.04743000e+05 -7.28092776e+04 -2.08494811e+06 -1.67350000e+04]\n",
            " [ 7.28092776e+04 -1.36419406e+04 -3.61849616e+05 -2.82712216e+03]\n",
            " [ 2.08494811e+06 -3.61849616e+05 -1.10914152e+07 -9.08382785e+04]\n",
            " [ 1.67350000e+04 -2.82712216e+03 -9.08382785e+04 -7.74359913e+02]]\n"
          ]
        }
      ]
    },
    {
      "cell_type": "markdown",
      "source": [
        "Решением данного матричного уравнения является:\n",
        "\n",
        "\n",
        "$\\vec{\\Theta} = M^{-1} \\times \\vec{\\Omega}$"
      ],
      "metadata": {
        "id": "0UT2NJD-qFfT"
      }
    },
    {
      "cell_type": "code",
      "source": [
        "inverse_m = np.linalg.inv(m)\n",
        "omega_vector = np.array(omega)\n",
        "theta = np.dot(inverse_m, omega_vector)\n",
        "print(theta)"
      ],
      "metadata": {
        "colab": {
          "base_uri": "https://localhost:8080/"
        },
        "id": "zIsWigbPp-XF",
        "outputId": "a2a04a74-c46e-4d00-8540-af90194adc2c"
      },
      "execution_count": 66,
      "outputs": [
        {
          "output_type": "stream",
          "name": "stdout",
          "text": [
            "[ 9.56459651 12.70106805  0.61093747 30.61085645]\n"
          ]
        }
      ]
    },
    {
      "cell_type": "markdown",
      "source": [
        "Получилось:\n",
        "\n",
        "$\\alpha = 9.56459651, \\ \\alpha_{true} =15.6$\n",
        "\n",
        "$\\beta = 12.70106805, \\ \\beta_{true} = 17.2$\n",
        "\n",
        "$\\gamma = 0.61093747, \\ \\gamma_{true} = 0.72$\n",
        "\n",
        "$\\delta = 30.61085645, \\ \\delta_{true} = 23.6$\n",
        "\n",
        "Расходимость с истинными значениями скорее всего свяазана с ошибкой вычисления корней уравнения."
      ],
      "metadata": {
        "id": "TbqPkFyWRo0I"
      }
    }
  ]
}