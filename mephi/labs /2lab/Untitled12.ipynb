{
  "nbformat": 4,
  "nbformat_minor": 0,
  "metadata": {
    "colab": {
      "provenance": [],
      "include_colab_link": true
    },
    "kernelspec": {
      "name": "python3",
      "display_name": "Python 3"
    },
    "language_info": {
      "name": "python"
    }
  },
  "cells": [
    {
      "cell_type": "markdown",
      "metadata": {
        "id": "view-in-github",
        "colab_type": "text"
      },
      "source": [
        "<a href=\"https://colab.research.google.com/github/matalhim/mephi/blob/master/mephi/labs%20/2lab/Untitled12.ipynb\" target=\"_parent\"><img src=\"https://colab.research.google.com/assets/colab-badge.svg\" alt=\"Open In Colab\"/></a>"
      ]
    },
    {
      "cell_type": "code",
      "execution_count": null,
      "metadata": {
        "id": "is98Oqelhrl3"
      },
      "outputs": [],
      "source": [
        "import numpy as np"
      ]
    },
    {
      "cell_type": "code",
      "source": [
        "a = np.array([\n",
        "    [10, 1, 0, 0, 0],\n",
        "    [2, 11, 3, 0, 0],\n",
        "    [0, 4, 9, 1, 0],\n",
        "    [0, 0, 3, 8, 1],\n",
        "    [0, 0, 0, 2, 11]\n",
        "])\n",
        "\n",
        "b = np.array([10, 5, -3, 8, 4])\n",
        "\n",
        "x = np.linalg.solve(a, b)\n",
        "print('нампи:\\n', x)\n"
      ],
      "metadata": {
        "id": "9BFt2wMcnLpy",
        "colab": {
          "base_uri": "https://localhost:8080/"
        },
        "outputId": "6adc2f8a-ad31-456e-eb65-63beeff8d8b3"
      },
      "execution_count": null,
      "outputs": [
        {
          "output_type": "stream",
          "name": "stdout",
          "text": [
            "нампи:\n",
            " [ 0.95339129  0.46608711 -0.67791358  1.23687382  0.13875022]\n"
          ]
        }
      ]
    },
    {
      "cell_type": "markdown",
      "source": [
        "## метод прогонки\n"
      ],
      "metadata": {
        "id": "NzqSR5FcEuG2"
      }
    },
    {
      "cell_type": "code",
      "source": [
        "def run_method(a, b):\n",
        "  n = len(b)\n",
        "\n",
        "  x = np.zeros(n)\n",
        "  alpha = np.zeros(n)\n",
        "  beta = np.zeros(n)\n",
        "  gamma = np.zeros(n)\n",
        "\n",
        "\n",
        "  gamma[0] = a[0][0]\n",
        "  alpha[0] = -a[0][1] / gamma[0]\n",
        "  beta[0] = b[0] / gamma[0]\n",
        "\n",
        "  for i in range(1, n-1):\n",
        "    gamma[i] = a[i][i] + a[i][i-1] * alpha[i-1]\n",
        "    alpha[i] = -a[i][i+1] / gamma[i]\n",
        "    beta[i] = (b[i] - a[i][i-1] * beta[i-1]) / gamma[i]\n",
        "\n",
        "  gamma[n-1] = a[n-1][n-1] + a[n-1][n-2] * alpha[n-2]\n",
        "  beta[n-1] = (b[n-1] - a[n-1][n-2] * beta[n-2]) / gamma[n-1]\n",
        "\n",
        "  x[n-1] = beta[n-1]\n",
        "  for i in range(n - 2, -1, -1):\n",
        "      x[i] = alpha[i] * x[i + 1] + beta[i]\n",
        "\n",
        "  return x\n",
        "\n",
        "x_run_method = run_method(a, b)\n",
        "print('метод прогонки:\\n', x_run_method)\n",
        "\n",
        "err = np.linalg.norm(x - x_run_method) / np.linalg.norm(x)\n",
        "print(err)\n",
        "\n",
        "\n"
      ],
      "metadata": {
        "colab": {
          "base_uri": "https://localhost:8080/"
        },
        "id": "987Qcb56Scoi",
        "outputId": "4ee29d9f-f37e-42e3-c255-bc36da37f792"
      },
      "execution_count": null,
      "outputs": [
        {
          "output_type": "stream",
          "name": "stdout",
          "text": [
            "метод прогонки:\n",
            " [ 0.95339129  0.46608711 -0.67791358  1.23687382  0.13875022]\n",
            "6.270477880451288e-17\n"
          ]
        }
      ]
    },
    {
      "cell_type": "markdown",
      "source": [
        "## метод простой итерации"
      ],
      "metadata": {
        "id": "4h41MhVJE2P0"
      }
    },
    {
      "cell_type": "code",
      "source": [
        "def matrix_change(a, b):\n",
        "    n = len(b)\n",
        "    d = np.zeros((n, n))\n",
        "    c = np.zeros(n)\n",
        "\n",
        "    for i in range(n):\n",
        "        for j in range(n):\n",
        "            if i != j:\n",
        "                d[i][j] = -a[i][j] / a[j][j]\n",
        "        c[i] = b[i] / a[i][i]\n",
        "\n",
        "    return d, c\n",
        "\n",
        "d, c = matrix_change(a, b)\n",
        "\n",
        "print(d)\n",
        "print(c)"
      ],
      "metadata": {
        "id": "AKpLn2OKiQ9c",
        "colab": {
          "base_uri": "https://localhost:8080/"
        },
        "outputId": "31d84252-9f74-442e-c10d-57ae3951ff38"
      },
      "execution_count": null,
      "outputs": [
        {
          "output_type": "stream",
          "name": "stdout",
          "text": [
            "[[ 0.         -0.09090909  0.          0.          0.        ]\n",
            " [-0.2         0.         -0.33333333  0.          0.        ]\n",
            " [ 0.         -0.36363636  0.         -0.125       0.        ]\n",
            " [ 0.          0.         -0.33333333  0.         -0.09090909]\n",
            " [ 0.          0.          0.         -0.25        0.        ]]\n",
            "[ 1.          0.45454545 -0.33333333  1.          0.36363636]\n"
          ]
        }
      ]
    },
    {
      "cell_type": "code",
      "source": [
        "def Dx_plus_c(x, d, c):\n",
        "    result = np.zeros(len(x))\n",
        "    for i in range(len(d)):\n",
        "        for j in range(len(x)):\n",
        "            result[i] += d[i][j] * x[j]\n",
        "\n",
        "    for i in range(len(result)):\n",
        "        result[i] += c[i]\n",
        "\n",
        "    return result\n",
        "\n",
        "\n",
        "def iteration_method(d, c, n):\n",
        "    x = [1 for _ in range(len(c))]\n",
        "    x_values = []\n",
        "    for _ in range(n):\n",
        "        x = Dx_plus_c(x, d, c)\n",
        "        x_values.append(x)\n",
        "\n",
        "    return x_values\n",
        "\n",
        "\n",
        "x_iteration_method_values = iteration_method(d, c, 50)\n",
        "print('метод простой итерации\\n', x_iteration_method_values[-1])"
      ],
      "metadata": {
        "colab": {
          "base_uri": "https://localhost:8080/",
          "height": 193
        },
        "id": "ssE8QbMYM0-S",
        "outputId": "008ec118-3a0c-410c-ca60-e60ee68d5196"
      },
      "execution_count": null,
      "outputs": [
        {
          "output_type": "error",
          "ename": "NameError",
          "evalue": "name 'd' is not defined",
          "traceback": [
            "\u001b[0;31m---------------------------------------------------------------------------\u001b[0m",
            "\u001b[0;31mNameError\u001b[0m                                 Traceback (most recent call last)",
            "\u001b[0;32m<ipython-input-6-99058789b17e>\u001b[0m in \u001b[0;36m<cell line: 23>\u001b[0;34m()\u001b[0m\n\u001b[1;32m     21\u001b[0m \u001b[0;34m\u001b[0m\u001b[0m\n\u001b[1;32m     22\u001b[0m \u001b[0;34m\u001b[0m\u001b[0m\n\u001b[0;32m---> 23\u001b[0;31m \u001b[0mx_iteration_method_values\u001b[0m \u001b[0;34m=\u001b[0m \u001b[0miteration_method\u001b[0m\u001b[0;34m(\u001b[0m\u001b[0md\u001b[0m\u001b[0;34m,\u001b[0m \u001b[0mc\u001b[0m\u001b[0;34m,\u001b[0m \u001b[0;36m50\u001b[0m\u001b[0;34m)\u001b[0m\u001b[0;34m\u001b[0m\u001b[0;34m\u001b[0m\u001b[0m\n\u001b[0m\u001b[1;32m     24\u001b[0m \u001b[0mprint\u001b[0m\u001b[0;34m(\u001b[0m\u001b[0;34m'метод простой итерации\\n'\u001b[0m\u001b[0;34m,\u001b[0m \u001b[0mx_iteration_method_values\u001b[0m\u001b[0;34m[\u001b[0m\u001b[0;34m-\u001b[0m\u001b[0;36m1\u001b[0m\u001b[0;34m]\u001b[0m\u001b[0;34m)\u001b[0m\u001b[0;34m\u001b[0m\u001b[0;34m\u001b[0m\u001b[0m\n",
            "\u001b[0;31mNameError\u001b[0m: name 'd' is not defined"
          ]
        }
      ]
    },
    {
      "cell_type": "code",
      "source": [
        "import matplotlib.pyplot as plt\n",
        "\n",
        "err_values = [np.linalg.norm(x - x_iteration) / np.linalg.norm(x) for x_iteration in x_iteration_method_values]\n",
        "print(err_values)\n",
        "count = range(1, len(err_values) + 1)\n",
        "plt.plot(count, err_values)\n",
        "\n",
        "plt.title('')\n",
        "plt.xlabel('x')\n",
        "plt.ylabel('y')\n",
        "plt.show()"
      ],
      "metadata": {
        "colab": {
          "base_uri": "https://localhost:8080/",
          "height": 211
        },
        "id": "qVi49bfRSf8k",
        "outputId": "495925e5-9be2-42f3-d75b-2e31807db013"
      },
      "execution_count": null,
      "outputs": [
        {
          "output_type": "error",
          "ename": "NameError",
          "evalue": "name 'x_iteration_method_values' is not defined",
          "traceback": [
            "\u001b[0;31m---------------------------------------------------------------------------\u001b[0m",
            "\u001b[0;31mNameError\u001b[0m                                 Traceback (most recent call last)",
            "\u001b[0;32m<ipython-input-5-f4e850f98ba7>\u001b[0m in \u001b[0;36m<cell line: 3>\u001b[0;34m()\u001b[0m\n\u001b[1;32m      1\u001b[0m \u001b[0;32mimport\u001b[0m \u001b[0mmatplotlib\u001b[0m\u001b[0;34m.\u001b[0m\u001b[0mpyplot\u001b[0m \u001b[0;32mas\u001b[0m \u001b[0mplt\u001b[0m\u001b[0;34m\u001b[0m\u001b[0;34m\u001b[0m\u001b[0m\n\u001b[1;32m      2\u001b[0m \u001b[0;34m\u001b[0m\u001b[0m\n\u001b[0;32m----> 3\u001b[0;31m \u001b[0merr_values\u001b[0m \u001b[0;34m=\u001b[0m \u001b[0;34m[\u001b[0m\u001b[0mnp\u001b[0m\u001b[0;34m.\u001b[0m\u001b[0mlinalg\u001b[0m\u001b[0;34m.\u001b[0m\u001b[0mnorm\u001b[0m\u001b[0;34m(\u001b[0m\u001b[0mx\u001b[0m \u001b[0;34m-\u001b[0m \u001b[0mx_iteration\u001b[0m\u001b[0;34m)\u001b[0m \u001b[0;34m/\u001b[0m \u001b[0mnp\u001b[0m\u001b[0;34m.\u001b[0m\u001b[0mlinalg\u001b[0m\u001b[0;34m.\u001b[0m\u001b[0mnorm\u001b[0m\u001b[0;34m(\u001b[0m\u001b[0mx\u001b[0m\u001b[0;34m)\u001b[0m \u001b[0;32mfor\u001b[0m \u001b[0mx_iteration\u001b[0m \u001b[0;32min\u001b[0m \u001b[0mx_iteration_method_values\u001b[0m\u001b[0;34m]\u001b[0m\u001b[0;34m\u001b[0m\u001b[0;34m\u001b[0m\u001b[0m\n\u001b[0m\u001b[1;32m      4\u001b[0m \u001b[0mprint\u001b[0m\u001b[0;34m(\u001b[0m\u001b[0merr_values\u001b[0m\u001b[0;34m)\u001b[0m\u001b[0;34m\u001b[0m\u001b[0;34m\u001b[0m\u001b[0m\n\u001b[1;32m      5\u001b[0m \u001b[0mcount\u001b[0m \u001b[0;34m=\u001b[0m \u001b[0mrange\u001b[0m\u001b[0;34m(\u001b[0m\u001b[0;36m1\u001b[0m\u001b[0;34m,\u001b[0m \u001b[0mlen\u001b[0m\u001b[0;34m(\u001b[0m\u001b[0merr_values\u001b[0m\u001b[0;34m)\u001b[0m \u001b[0;34m+\u001b[0m \u001b[0;36m1\u001b[0m\u001b[0;34m)\u001b[0m\u001b[0;34m\u001b[0m\u001b[0;34m\u001b[0m\u001b[0m\n",
            "\u001b[0;31mNameError\u001b[0m: name 'x_iteration_method_values' is not defined"
          ]
        }
      ]
    },
    {
      "cell_type": "markdown",
      "source": [
        "## матрица Гильберта"
      ],
      "metadata": {
        "id": "N6Qs9DuTcUSU"
      }
    },
    {
      "cell_type": "code",
      "source": [
        "def g_matrix(n):\n",
        "  g = np.zeros((n, n))\n",
        "  for i in range(n):\n",
        "    for j in range(n):\n",
        "        g [i][j] = 1 / (i + j + 1)\n",
        "  print(g)\n",
        "  print('\\nчисло обусловленности: ',np.linalg.cond(g))\n",
        "  print('\\n')\n",
        "\n",
        "  y = g.dot(np.ones((n)))\n",
        "\n",
        "  x_g_matrix = iteration_method(g, y, 50)\n",
        "  print('метод простой итерации\\n',x_g_matrix[-1])\n",
        "\n",
        "  x = np.linalg.solve(g, y)\n",
        "  print(x)\n",
        "\n",
        "  err_values = [np.linalg.norm(np.ones((n)) - x_iteration) / np.linalg.norm(np.ones((n))) for x_iteration in x_g_matrix]\n",
        "  count = range(1, len(err_values) + 1)\n",
        "  plt.plot(count, err_values)\n",
        "\n",
        "  plt.title('')\n",
        "  plt.xlabel('x')\n",
        "  plt.ylabel('y')\n",
        "  plt.show()"
      ],
      "metadata": {
        "id": "WylZZCKLep57"
      },
      "execution_count": null,
      "outputs": []
    },
    {
      "cell_type": "code",
      "source": [
        "g_matrix(5)"
      ],
      "metadata": {
        "colab": {
          "base_uri": "https://localhost:8080/",
          "height": 691
        },
        "id": "6crqLWq4m3SV",
        "outputId": "37d0c85f-3f7a-4a20-8ac0-a64765c2b6a3"
      },
      "execution_count": null,
      "outputs": [
        {
          "output_type": "stream",
          "name": "stdout",
          "text": [
            "[[1.         0.5        0.33333333 0.25       0.2       ]\n",
            " [0.5        0.33333333 0.25       0.2        0.16666667]\n",
            " [0.33333333 0.25       0.2        0.16666667 0.14285714]\n",
            " [0.25       0.2        0.16666667 0.14285714 0.125     ]\n",
            " [0.2        0.16666667 0.14285714 0.125      0.11111111]]\n",
            "\n",
            "число обусловленности:  476607.2502425855\n",
            "\n",
            "\n",
            "метод простой итерации\n",
            " [3.27888008e+10 1.90360932e+10 1.37319810e+10 1.08223061e+10\n",
            " 8.95981012e+09]\n",
            "[1. 1. 1. 1. 1.]\n"
          ]
        },
        {
          "output_type": "display_data",
          "data": {
            "text/plain": [
              "<Figure size 640x480 with 1 Axes>"
            ],
            "image/png": "[encoded data removed]"
          },
          "metadata": {}
        }
      ]
    },
    {
      "cell_type": "code",
      "source": [
        "g_matrix(12)"
      ],
      "metadata": {
        "id": "hH1KzCZXm6-P",
        "outputId": "314e2491-7c09-4d99-8778-7caa088bfd27",
        "colab": {
          "base_uri": "https://localhost:8080/",
          "height": 1000
        }
      },
      "execution_count": null,
      "outputs": [
        {
          "output_type": "stream",
          "name": "stdout",
          "text": [
            "[[1.         0.5        0.33333333 0.25       0.2        0.16666667\n",
            "  0.14285714 0.125      0.11111111 0.1        0.09090909 0.08333333]\n",
            " [0.5        0.33333333 0.25       0.2        0.16666667 0.14285714\n",
            "  0.125      0.11111111 0.1        0.09090909 0.08333333 0.07692308]\n",
            " [0.33333333 0.25       0.2        0.16666667 0.14285714 0.125\n",
            "  0.11111111 0.1        0.09090909 0.08333333 0.07692308 0.07142857]\n",
            " [0.25       0.2        0.16666667 0.14285714 0.125      0.11111111\n",
            "  0.1        0.09090909 0.08333333 0.07692308 0.07142857 0.06666667]\n",
            " [0.2        0.16666667 0.14285714 0.125      0.11111111 0.1\n",
            "  0.09090909 0.08333333 0.07692308 0.07142857 0.06666667 0.0625    ]\n",
            " [0.16666667 0.14285714 0.125      0.11111111 0.1        0.09090909\n",
            "  0.08333333 0.07692308 0.07142857 0.06666667 0.0625     0.05882353]\n",
            " [0.14285714 0.125      0.11111111 0.1        0.09090909 0.08333333\n",
            "  0.07692308 0.07142857 0.06666667 0.0625     0.05882353 0.05555556]\n",
            " [0.125      0.11111111 0.1        0.09090909 0.08333333 0.07692308\n",
            "  0.07142857 0.06666667 0.0625     0.05882353 0.05555556 0.05263158]\n",
            " [0.11111111 0.1        0.09090909 0.08333333 0.07692308 0.07142857\n",
            "  0.06666667 0.0625     0.05882353 0.05555556 0.05263158 0.05      ]\n",
            " [0.1        0.09090909 0.08333333 0.07692308 0.07142857 0.06666667\n",
            "  0.0625     0.05882353 0.05555556 0.05263158 0.05       0.04761905]\n",
            " [0.09090909 0.08333333 0.07692308 0.07142857 0.06666667 0.0625\n",
            "  0.05882353 0.05555556 0.05263158 0.05       0.04761905 0.04545455]\n",
            " [0.08333333 0.07692308 0.07142857 0.06666667 0.0625     0.05882353\n",
            "  0.05555556 0.05263158 0.05       0.04761905 0.04545455 0.04347826]]\n",
            "\n",
            "число обусловленности:  1.7515952300879806e+16\n",
            "\n",
            "\n",
            "метод простой итерации\n",
            " [3.27073285e+13 2.01302460e+13 1.50857257e+13 1.22269256e+13\n",
            " 1.03459029e+13 8.99887666e+12 7.97976556e+12 7.17830521e+12\n",
            " 6.52956476e+12 5.99255831e+12 5.54001184e+12 5.15300569e+12]\n",
            "[0.99999993 1.00000869 0.99972767 1.00369897 0.97296008 1.11850084\n",
            " 0.67060622 1.5949503  0.30389297 1.5088705  0.78878985 1.03799403]\n"
          ]
        },
        {
          "output_type": "display_data",
          "data": {
            "text/plain": [
              "<Figure size 640x480 with 1 Axes>"
            ],
            "image/png": "[encoded data removed]"
          },
          "metadata": {}
        }
      ]
    },
    {
      "cell_type": "markdown",
      "source": [
        "##метод Метод Гаусса – Зейделя\n",
        "$a_{i1}x_1+...+a_{i,(i-1)}x_{i-1}+a_{i,i}x_{i}+a_{i,+1}x_{i+1}+...+a_{i,n}x_{n}=b_{i}\\\\\n",
        "i=1,2,...,n\\\\\n",
        "x^{k}_{i}=\\frac{1}{a_{i,i}}(b_{i} - a_{1,i}x^{k}_{1}-...-a_{i,i-1}x^{k}_{i-1}-a_{i,i+1}x^{k-1}_{i+1}-...-a_{i,n}x^{k-1}_{n})\\\\\n",
        "i=1,2,...,n\\\\\n",
        "$"
      ],
      "metadata": {
        "id": "DvN6g8SxGlgz"
      }
    },
    {
      "cell_type": "code",
      "source": [
        "import numpy as np\n",
        "import matplotlib.pyplot as plt\n",
        "\n",
        "# a = np.array([\n",
        "#     [2, 3, 5],\n",
        "#     [3, 7, 4],\n",
        "#     [1, 2, 2]\n",
        "# ])\n",
        "\n",
        "# b = np.array([10, 3, 3])\n",
        "\n",
        "a = np.array([\n",
        "    [10, 1, 0, 0, 0],\n",
        "    [2, 11, 3, 0, 0],\n",
        "    [0, 4, 9, 1, 0],\n",
        "    [0, 0, 3, 8, 1],\n",
        "    [0, 0, 0, 2, 11]\n",
        "])\n",
        "\n",
        "b = np.array([10, 5, -3, 8, 4])\n",
        "\n",
        "n = len(b)\n",
        "\n",
        "x = np.linalg.solve(a, b)\n",
        "print('нампи:\\n', x)\n",
        "print('\\n')\n"
      ],
      "metadata": {
        "colab": {
          "base_uri": "https://localhost:8080/"
        },
        "id": "ObSiVIEHGlq7",
        "outputId": "7ec14855-e6e3-4ce3-934f-da6e9a8aba0d"
      },
      "execution_count": null,
      "outputs": [
        {
          "output_type": "stream",
          "name": "stdout",
          "text": [
            "нампи:\n",
            " [ 0.95339129  0.46608711 -0.67791358  1.23687382  0.13875022]\n",
            "\n",
            "\n"
          ]
        }
      ]
    },
    {
      "cell_type": "code",
      "source": [
        "def iteration_method(A, b, count=1000, epsilon=1e-6):\n",
        "    n = len(b)\n",
        "    x_current = np.zeros(n)\n",
        "    x_values = [x_current]\n",
        "\n",
        "    for k in range(count):\n",
        "        x_new = np.zeros(n)\n",
        "        for i in range(n):\n",
        "            x_new[i] = (b[i] - np.dot(A[i, :i], x_new[:i]) - np.dot(A[i, i+1:], x_current[i+1:])) / A[i, i]\n",
        "        x_values.append(x_new)\n",
        "\n",
        "        if np.max(np.abs(x_new - x_current)) < epsilon:\n",
        "            break\n",
        "\n",
        "        x_current = x_new\n",
        "\n",
        "    return x_current, x_values\n",
        "x_iteration_method, iterations = iteration_method(a, b)\n",
        "print(x_iteration_method)"
      ],
      "metadata": {
        "colab": {
          "base_uri": "https://localhost:8080/"
        },
        "id": "9-Z4igNgQDfX",
        "outputId": "62847cf4-7629-4317-f42c-3eab697c3889"
      },
      "execution_count": null,
      "outputs": [
        {
          "output_type": "stream",
          "name": "stdout",
          "text": [
            "[ 0.95339151  0.46608671 -0.67791334  1.23687371  0.13875023]\n"
          ]
        }
      ]
    },
    {
      "cell_type": "code",
      "source": [
        "import matplotlib.pyplot as plt\n",
        "\n",
        "err_values = [np.linalg.norm(x - x_iteration) / np.linalg.norm(x) for x_iteration in iterations]\n",
        "count = range(1, len(err_values) + 1)\n",
        "plt.plot(count, err_values)\n",
        "\n",
        "plt.title('')\n",
        "plt.xlabel('count')\n",
        "plt.ylabel('err')\n",
        "plt.show()"
      ],
      "metadata": {
        "colab": {
          "base_uri": "https://localhost:8080/",
          "height": 449
        },
        "id": "W7_Ln6IcSPQ4",
        "outputId": "bca401b2-dd4f-48e5-eac5-3c87d608d67c"
      },
      "execution_count": null,
      "outputs": [
        {
          "output_type": "display_data",
          "data": {
            "text/plain": [
              "<Figure size 640x480 with 1 Axes>"
            ],
            "image/png": "[encoded data removed]"
          },
          "metadata": {}
        }
      ]
    }
  ]
}